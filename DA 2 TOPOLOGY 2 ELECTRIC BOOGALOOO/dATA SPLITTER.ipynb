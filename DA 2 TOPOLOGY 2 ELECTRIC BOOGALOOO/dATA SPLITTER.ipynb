{
 "cells": [
  {
   "cell_type": "code",
   "execution_count": 44,
   "metadata": {},
   "outputs": [
    {
     "data": {
      "text/plain": [
       "'C:\\\\Users\\\\Ronan Corless\\\\Documents\\\\GitHub\\\\HomeworkRepo\\\\DA 2 TOPOLOGY 2 ELECTRIC BOOGALOOO'"
      ]
     },
     "execution_count": 44,
     "metadata": {},
     "output_type": "execute_result"
    }
   ],
   "source": [
    "import os \n",
    "os.getcwd()\n",
    "os.chdir(\"C:\\\\Users\\\\Ronan Corless\\\\Documents\\\\GitHub\\\\HomeworkRepo\\\\DA 2 TOPOLOGY 2 ELECTRIC BOOGALOOO\")\n",
    "os.getcwd()"
   ]
  },
  {
   "cell_type": "code",
   "execution_count": 45,
   "metadata": {},
   "outputs": [],
   "source": [
    "f = open('data5.txt')\n",
    "\n",
    "content = \"\"\n",
    "for line in f: \n",
    "    content = content + line\n",
    "content = content.replace(\" \",\"\")\n",
    "content = content.replace(\"\\n\", \"\")\n",
    "content = content[1:-1]\n",
    "content2 = content.split(\"],\")\n",
    "for i in range(len(content2)):\n",
    "    content2[i] = content2[i].replace(\"[\",\"\") \n",
    "    content2[i] = content2[i].replace(\"]\",\"\")"
   ]
  },
  {
   "cell_type": "code",
   "execution_count": 46,
   "metadata": {},
   "outputs": [],
   "source": [
    "outfile = open(\"data5.csv\",\"w\")\n",
    "for row in content2:\n",
    "    outfile.write(row)\n",
    "    outfile.write(\"\\n\")\n",
    "outfile.close()"
   ]
  },
  {
   "cell_type": "code",
   "execution_count": 47,
   "metadata": {},
   "outputs": [],
   "source": [
    "k = 5\n",
    "i = 0\n",
    "filterfile = open(\"ecc5.csv\", \"w\")\n",
    "for row in content2:\n",
    "    sum = 0\n",
    "    for entry in row.split(\",\"):\n",
    "        sum = sum + float(entry)**k\n",
    "    sum = sum**(1/k)\n",
    "    i = i + 1\n",
    "    if i != 1:\n",
    "        filterfile.write(\",\")\n",
    "        filterfile.write(str(sum))\n",
    "    else:\n",
    "        filterfile.write(str(sum))\n",
    "filterfile.write(\"\\r\")\n",
    "filterfile.close()"
   ]
  },
  {
   "cell_type": "code",
   "execution_count": null,
   "metadata": {},
   "outputs": [],
   "source": []
  }
 ],
 "metadata": {
  "interpreter": {
   "hash": "a79884e4834f91c0f0d15c7cb696c21d631703e5abf58afc10bb48a5532883fa"
  },
  "kernelspec": {
   "display_name": "Python 3.9.7 64-bit",
   "language": "python",
   "name": "python3"
  },
  "language_info": {
   "codemirror_mode": {
    "name": "ipython",
    "version": 3
   },
   "file_extension": ".py",
   "mimetype": "text/x-python",
   "name": "python",
   "nbconvert_exporter": "python",
   "pygments_lexer": "ipython3",
   "version": "3.9.7"
  },
  "orig_nbformat": 4
 },
 "nbformat": 4,
 "nbformat_minor": 2
}
