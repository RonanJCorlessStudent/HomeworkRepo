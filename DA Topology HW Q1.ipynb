{
 "cells": [
  {
   "cell_type": "code",
   "execution_count": 210,
   "metadata": {},
   "outputs": [],
   "source": [
    "import networkx as nx\n",
    "import random\n",
    "import numpy as np\n",
    "import matplotlib\n",
    "import matplotlib.pyplot as plt\n",
    "import itertools\n",
    "import igraph as ig\n",
    "from collections import Counter"
   ]
  },
  {
   "cell_type": "code",
   "execution_count": 211,
   "metadata": {},
   "outputs": [],
   "source": [
    "def gnp_random_graph(n, p):\n",
    "    \"\"\"\n",
    "    Generates a random undirected graph, similar to an Erdos Graph\n",
    "    \"\"\"\n",
    "    edges = itertools.combinations(range(n), 2)\n",
    "    G = nx.Graph()\n",
    "    G.add_nodes_from(range(n))\n",
    "    if p <= 0:\n",
    "        return G\n",
    "    if p >= 1:\n",
    "        return nx.complete_graph(n, create_using=G)\n",
    "    for _, node_edges in itertools.groupby(edges, key=lambda x: x[0]):\n",
    "        node_edges = list(node_edges)\n",
    "        for e in node_edges:\n",
    "            if random.random() < p:\n",
    "                G.add_edge(*e)\n",
    "    return G"
   ]
  },
  {
   "cell_type": "code",
   "execution_count": 212,
   "metadata": {},
   "outputs": [],
   "source": [
    "def d(p,q):\n",
    "    \"\"\n",
    "    return np.sqrt(sum([p[i]-q[i]])**2 for i in range(len(p))) \n",
    "\n",
    "def distances(ps):\n",
    "    \"\"\n",
    "    nps = len(ps)\n",
    "    return np.array([[d(ps[i],ps[j]) for j in range(nps)]for i in range(nps)])\n",
    "\n",
    "def is_simplex(g, vs):\n",
    "    \"\"\n",
    "    for i in vs:\n",
    "        for j in vs:\n",
    "            if i != j and j not in g[i]:\n",
    "                return False\n",
    "    return True\n",
    "\n",
    "def simplices(g,k):\n",
    "    \"\"\n",
    "    ss = []\n",
    "    for i in g.keys():\n",
    "        vvs = [j for j in g[i] if j>1]\n",
    "        for subset in itertools.combinations(vvs, k):\n",
    "            if is_simplex(g, subset):\n",
    "                ss.append((i,) + subset)\n",
    "    return ss\n"
   ]
  },
  {
   "cell_type": "code",
   "execution_count": 1,
   "metadata": {},
   "outputs": [],
   "source": [
    "def question1func(nodes, verse):\n",
    "    \"\"\n",
    "    plt.figure(figsize=(10,10))\n",
    "    n = nodes\n",
    "    pxs = np.linspace(0,1, 100)\n",
    "    pxs = [ round(elem, 3) for elem in pxs ]\n",
    "    yxs=[]\n",
    "    if verse == \"Bzero\":\n",
    "        for i in pxs:\n",
    "            G = gnp_random_graph(n, i)\n",
    "            Gedgelist = nx.edges(G)\n",
    "            Gnodelist = nx.nodes(G)\n",
    "            Gedgenum = len(Gedgelist)\n",
    "            Gnodenum = len(Gnodelist)\n",
    "            Bzero = nx.number_connected_components(G)\n",
    "            yxs.append(Bzero)\n",
    "        \n",
    "        \n",
    "    elif verse == \"XG\":\n",
    "        for i in pxs:\n",
    "            G = gnp_random_graph(n, i)\n",
    "            Gedgelist = nx.edges(G)\n",
    "            Gnodelist = nx.nodes(G)\n",
    "            Gedgenum = len(Gedgelist)\n",
    "            Gnodenum = len(Gnodelist)\n",
    "            XG = Gnodenum - Gedgenum\n",
    "            yxs.append(XG)\n",
    "        \n",
    "    elif verse == \"Bone\":\n",
    "        for i in pxs:\n",
    "            G = gnp_random_graph(n, i)\n",
    "            Gedgelist = nx.edges(G)\n",
    "            Gnodelist = nx.nodes(G)\n",
    "            Gedgenum = len(Gedgelist)\n",
    "            Gnodenum = len(Gnodelist)\n",
    "            Bzero = nx.number_connected_components(G)\n",
    "            XG = Gnodenum - Gedgenum\n",
    "            Bone = Bzero - XG\n",
    "            yxs.append(Bone)\n",
    "    \n",
    "    elif verse == \"Virus\":\n",
    "        for i in pxs:\n",
    "            G = gnp_random_graph(n, i)\n",
    "            Gedgelist = nx.edges(G)\n",
    "            Gnodelist = nx.nodes(G)\n",
    "            Gedgenum = len(Gedgelist)\n",
    "            Gnodenum = len(Gnodelist)\n",
    "            Bzero = nx.number_connected_components(G)\n",
    "            XG = Gnodenum - Gedgenum\n",
    "            Bone = Bzero - XG\n",
    "            if Bzero != 1:\n",
    "                yxs.append(0)\n",
    "            elif Bzero == 1:\n",
    "                yxs.append(1)\n",
    "            for i in yxs:\n",
    "                if i == 1:\n",
    "                    first = list.index(i)\n",
    "                break\n",
    "            \n",
    "    \n",
    "    return plt.plot(pxs,yxs)"
   ]
  },
  {
   "cell_type": "code",
   "execution_count": 214,
   "metadata": {},
   "outputs": [],
   "source": [
    "#question1func(200, \"XG\")"
   ]
  },
  {
   "cell_type": "code",
   "execution_count": 215,
   "metadata": {},
   "outputs": [],
   "source": [
    "#question1func(200, \"Bzero\")"
   ]
  },
  {
   "cell_type": "code",
   "execution_count": 216,
   "metadata": {},
   "outputs": [],
   "source": [
    "#question1func(200, \"Bone\")"
   ]
  },
  {
   "cell_type": "code",
   "execution_count": 217,
   "metadata": {},
   "outputs": [],
   "source": [
    "#question1func(200, \"Virus\")"
   ]
  },
  {
   "cell_type": "code",
   "execution_count": 218,
   "metadata": {},
   "outputs": [],
   "source": [
    "def whenfullinfected(nodes, number, start, stop, gaps):\n",
    "    list = []\n",
    "    n = nodes\n",
    "    pxs = np.linspace(start,stop,gaps)\n",
    "    pxs = [ round(elem, 3) for elem in pxs ]\n",
    "    yxs=[]\n",
    "    for j in range(number):\n",
    "        for a in pxs:\n",
    "            G = gnp_random_graph(n, a)\n",
    "            Gedgelist = nx.edges(G)\n",
    "            Gnodelist = nx.nodes(G)\n",
    "            Gedgenum = len(Gedgelist)\n",
    "            Gnodenum = len(Gnodelist)\n",
    "            Bzero = nx.number_connected_components(G)\n",
    "            XG = Gnodenum - Gedgenum\n",
    "            Bone = Bzero - XG\n",
    "            if Bzero == 1: \n",
    "                yxs.append(1)\n",
    "                list.append(a)\n",
    "                break\n",
    "    return list"
   ]
  },
  {
   "cell_type": "code",
   "execution_count": 219,
   "metadata": {},
   "outputs": [],
   "source": [
    "def calcer(nodes, number, start, stop, gaps):\n",
    "    list = whenfullinfected(nodes, number, start, stop, gaps)\n",
    "    fullcount = Counter(list)\n",
    "    return fullcount"
   ]
  },
  {
   "cell_type": "code",
   "execution_count": 220,
   "metadata": {},
   "outputs": [],
   "source": [
    "#calcer(200, 500, 0, 0.1, 25)"
   ]
  },
  {
   "cell_type": "code",
   "execution_count": 221,
   "metadata": {},
   "outputs": [],
   "source": [
    "def firstonlycalcer(nodes, number, start, stop, gaps):\n",
    "    list = whenfullinfected(nodes, number, start, stop, gaps)\n",
    "    fullcount = Counter(list)\n",
    "    #print(fullcount)\n",
    "    return min(fullcount.keys())"
   ]
  },
  {
   "cell_type": "code",
   "execution_count": 222,
   "metadata": {},
   "outputs": [],
   "source": [
    "#firstonlycalcer(200,100,0,0.1,25)"
   ]
  },
  {
   "cell_type": "code",
   "execution_count": 223,
   "metadata": {},
   "outputs": [],
   "source": [
    "def nchangecalcer(nstart,nstop,nstep,number, start, stop, gaps):\n",
    "    n = np.linspace(nstart,nstop, nstep, dtype=int)\n",
    "    when = {}\n",
    "    fullyat = []\n",
    "    h = -1\n",
    "    for i in n:\n",
    "        z = firstonlycalcer(int(i), number,start, stop, gaps)\n",
    "        fullyat.append(z)\n",
    "    for a in n:\n",
    "        h += 1\n",
    "        when[a] = fullyat[h]\n",
    "            \n",
    "    keys = when.keys()\n",
    "    values = when.values()\n",
    "    return when"
   ]
  },
  {
   "cell_type": "code",
   "execution_count": 224,
   "metadata": {},
   "outputs": [],
   "source": [
    "#nchangecalcer(1,500,50,50,0,0.5,100)"
   ]
  },
  {
   "cell_type": "code",
   "execution_count": 225,
   "metadata": {},
   "outputs": [],
   "source": [
    "def finalq1check(nstart,nstop,nstep,number, start, stop, gaps):\n",
    "    \"\"\n",
    "    a = nchangecalcer(nstart,nstop,nstep,number, start, stop, gaps)\n",
    "    b = nchangecalcer(nstart,nstop,nstep,number, start, stop, gaps)\n",
    "    c = nchangecalcer(nstart,nstop,nstep,number, start, stop, gaps)\n",
    "\n",
    "    sums= Counter()\n",
    "    counters = Counter()\n",
    "    for itemset in [a,b,c]:\n",
    "        sums.update(itemset)\n",
    "        counters.update(itemset.keys())\n",
    "    \n",
    "    ret = {x: float(sums[x])/counters[x] for x in sums.keys()}\n",
    "    keys = ret.keys()\n",
    "    values = ret.values()\n",
    "    plt.plot(keys,values)"
   ]
  },
  {
   "cell_type": "code",
   "execution_count": 226,
   "metadata": {},
   "outputs": [],
   "source": [
    "#finalq1check(1,500,50,100,0,0.5,100)"
   ]
  }
 ],
 "metadata": {
  "interpreter": {
   "hash": "a79884e4834f91c0f0d15c7cb696c21d631703e5abf58afc10bb48a5532883fa"
  },
  "kernelspec": {
   "display_name": "Python 3.9.7 64-bit",
   "language": "python",
   "name": "python3"
  },
  "language_info": {
   "codemirror_mode": {
    "name": "ipython",
    "version": 3
   },
   "file_extension": ".py",
   "mimetype": "text/x-python",
   "name": "python",
   "nbconvert_exporter": "python",
   "pygments_lexer": "ipython3",
   "version": "3.9.7"
  },
  "orig_nbformat": 4
 },
 "nbformat": 4,
 "nbformat_minor": 2
}
