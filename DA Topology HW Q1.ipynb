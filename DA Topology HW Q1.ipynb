{
 "cells": [
  {
   "cell_type": "markdown",
   "metadata": {},
   "source": [
    "## Start of Question 1, including importation of modules I may need for the question. ##"
   ]
  },
  {
   "cell_type": "code",
   "execution_count": 17,
   "metadata": {},
   "outputs": [],
   "source": [
    "import networkx as nx\n",
    "import random\n",
    "import numpy as np\n",
    "import matplotlib\n",
    "import matplotlib.pyplot as plt\n",
    "import itertools\n",
    "import igraph as ig\n",
    "from collections import Counter"
   ]
  },
  {
   "cell_type": "markdown",
   "metadata": {},
   "source": [
    "Below is a function that creates a erdos graph when given a number of nodes \"n\" and a probability of any one node having an edge to another node, \"p\"."
   ]
  },
  {
   "cell_type": "code",
   "execution_count": 18,
   "metadata": {},
   "outputs": [],
   "source": [
    "def gnp_random_graph(n, p):\n",
    "    \"\"\"\n",
    "    Generates a random undirected graph, similar to an Erdos Graph\n",
    "    \"\"\"\n",
    "    edges = itertools.combinations(range(n), 2) #creates a list of all possible edges between the n nodes of the graph\n",
    "    G = nx.Graph() # generate a networkx graph\n",
    "    G.add_nodes_from(range(n)) #add n nodes to the graph named G\n",
    "    if p <= 0:\n",
    "        return G # If there is no possiblity of connection between nodes we return the graph with kust nodes\n",
    "    if p >= 1:\n",
    "        return nx.complete_graph(n, create_using=G) #if there is 1 probability of the connection of nodes then we use every possible edge, as generated above\n",
    "    for _, node_edges in itertools.groupby(edges, key=lambda x: x[0]): \n",
    "        node_edges = list(node_edges) \n",
    "        for e in node_edges:\n",
    "            if random.random() < p:#for any other value, for every possible edge generate a p value and if it is within our p paramater above, add it to the graph\n",
    "                G.add_edge(*e)\n",
    "    return G"
   ]
  },
  {
   "cell_type": "markdown",
   "metadata": {},
   "source": [
    "Functions below taken from problem sheets\n"
   ]
  },
  {
   "cell_type": "code",
   "execution_count": 19,
   "metadata": {},
   "outputs": [],
   "source": [
    "def d(p,q):\n",
    "    \"\"\n",
    "    return np.sqrt(sum([p[i]-q[i]])**2 for i in range(len(p))) \n",
    "\n",
    "def distances(ps):\n",
    "    \"\"\n",
    "    nps = len(ps)\n",
    "    return np.array([[d(ps[i],ps[j]) for j in range(nps)]for i in range(nps)])\n",
    "\n",
    "def is_simplex(g, vs):\n",
    "    \"\"\n",
    "    for i in vs:\n",
    "        for j in vs:\n",
    "            if i != j and j not in g[i]:\n",
    "                return False\n",
    "    return True\n",
    "\n",
    "def simplices(g,k):\n",
    "    \"\"\n",
    "    ss = []\n",
    "    for i in g.keys():\n",
    "        vvs = [j for j in g[i] if j>1]\n",
    "        for subset in itertools.combinations(vvs, k):\n",
    "            if is_simplex(g, subset):\n",
    "                ss.append((i,) + subset)\n",
    "    return ss\n"
   ]
  },
  {
   "cell_type": "markdown",
   "metadata": {},
   "source": [
    "The below function takes a number of nodes and chosen value from bzero etc, and plots values of probability versus that value for that node number"
   ]
  },
  {
   "cell_type": "code",
   "execution_count": 20,
   "metadata": {},
   "outputs": [],
   "source": [
    "def question1func(nodes, verse):\n",
    "    \"\"\n",
    "    plt.figure(figsize=(10,10))\n",
    "    n = nodes\n",
    "    pxs = np.linspace(0,1, 100) # creates a list of all possible odds between 1 and 100% for the probability value\n",
    "    pxs = [ round(elem, 3) for elem in pxs ] # rounds above list\n",
    "    yxs=[] #creates an empty list for the y vals we will plot against the probability values\n",
    "    if verse == \"Bzero\":\n",
    "        for i in pxs:\n",
    "            G = gnp_random_graph(n, i)\n",
    "            Gedgelist = nx.edges(G)\n",
    "            Gnodelist = nx.nodes(G)\n",
    "            Gedgenum = len(Gedgelist)\n",
    "            Gnodenum = len(Gnodelist)\n",
    "            Bzero = nx.number_connected_components(G)\n",
    "            yxs.append(Bzero) # this generates random graphs for every value in the probability list and appends the value for Bzero for that graph into a list to plot against pxs\n",
    "        \n",
    "        \n",
    "    elif verse == \"XG\":\n",
    "        for i in pxs:\n",
    "            G = gnp_random_graph(n, i)\n",
    "            Gedgelist = nx.edges(G)\n",
    "            Gnodelist = nx.nodes(G)\n",
    "            Gedgenum = len(Gedgelist)\n",
    "            Gnodenum = len(Gnodelist)\n",
    "            XG = Gnodenum - Gedgenum\n",
    "            yxs.append(XG) # this generates random graphs for every value in the probability list and appends the value for the euler characteristic for that graph into a list to plot against pxs\n",
    "        \n",
    "    elif verse == \"Bone\":\n",
    "        for i in pxs:\n",
    "            G = gnp_random_graph(n, i)\n",
    "            Gedgelist = nx.edges(G)\n",
    "            Gnodelist = nx.nodes(G)\n",
    "            Gedgenum = len(Gedgelist)\n",
    "            Gnodenum = len(Gnodelist)\n",
    "            Bzero = nx.number_connected_components(G)\n",
    "            XG = Gnodenum - Gedgenum\n",
    "            Bone = Bzero - XG\n",
    "            yxs.append(Bone) # this generates random graphs for every value in the probability list and appends the value for Bone for that graph into a list to plot against pxs\n",
    "    \n",
    "    elif verse == \"Virus\":\n",
    "        for i in pxs:\n",
    "            G = gnp_random_graph(n, i)\n",
    "            Gedgelist = nx.edges(G)\n",
    "            Gnodelist = nx.nodes(G)\n",
    "            Gedgenum = len(Gedgelist)\n",
    "            Gnodenum = len(Gnodelist)\n",
    "            Bzero = nx.number_connected_components(G)\n",
    "            XG = Gnodenum - Gedgenum\n",
    "            Bone = Bzero - XG\n",
    "            if Bzero != 1:\n",
    "                yxs.append(0)\n",
    "            elif Bzero == 1:\n",
    "                yxs.append(1)\n",
    "            for i in yxs:\n",
    "                if i == 1:\n",
    "                    first = list.index(i) #this elif virus clause is similar to above but creates a list wherein we see at what point the full graph was connected (i.e the virus would spread)\n",
    "                break\n",
    "            \n",
    "    \n",
    "    return plt.plot(pxs,yxs)"
   ]
  },
  {
   "cell_type": "code",
   "execution_count": 21,
   "metadata": {},
   "outputs": [
    {
     "data": {
      "text/plain": [
       "[<matplotlib.lines.Line2D at 0x1f143ba3910>]"
      ]
     },
     "execution_count": 21,
     "metadata": {},
     "output_type": "execute_result"
    },
    {
     "data": {
      "image/png": "[encoded data removed]",
      "text/plain": [
       "<Figure size 720x720 with 1 Axes>"
      ]
     },
     "metadata": {
      "needs_background": "light"
     },
     "output_type": "display_data"
    }
   ],
   "source": [
    "question1func(200, \"XG\")"
   ]
  },
  {
   "cell_type": "code",
   "execution_count": 22,
   "metadata": {},
   "outputs": [
    {
     "data": {
      "text/plain": [
       "[<matplotlib.lines.Line2D at 0x1f1439ba8b0>]"
      ]
     },
     "execution_count": 22,
     "metadata": {},
     "output_type": "execute_result"
    },
    {
     "data": {
      "image/png": "[encoded data removed]",
      "text/plain": [
       "<Figure size 720x720 with 1 Axes>"
      ]
     },
     "metadata": {
      "needs_background": "light"
     },
     "output_type": "display_data"
    }
   ],
   "source": [
    "question1func(200, \"Bzero\")"
   ]
  },
  {
   "cell_type": "code",
   "execution_count": 23,
   "metadata": {},
   "outputs": [
    {
     "data": {
      "text/plain": [
       "[<matplotlib.lines.Line2D at 0x1f1433a3d30>]"
      ]
     },
     "execution_count": 23,
     "metadata": {},
     "output_type": "execute_result"
    },
    {
     "data": {
      "image/png": "[encoded data removed]",
      "text/plain": [
       "<Figure size 720x720 with 1 Axes>"
      ]
     },
     "metadata": {
      "needs_background": "light"
     },
     "output_type": "display_data"
    }
   ],
   "source": [
    "question1func(200, \"Bone\")"
   ]
  },
  {
   "cell_type": "code",
   "execution_count": 25,
   "metadata": {},
   "outputs": [],
   "source": [
    "def whenfullinfected(nodes, number, start, stop, gaps):\n",
    "    \"here number is the amount of times we want to produce a graph of this nature\"\n",
    "    list = []\n",
    "    n = nodes\n",
    "    pxs = np.linspace(start,stop,gaps)\n",
    "    pxs = [ round(elem, 3) for elem in pxs ]\n",
    "    yxs=[]\n",
    "    for j in range(number):\n",
    "        for a in pxs:\n",
    "            G = gnp_random_graph(n, a)\n",
    "            Gedgelist = nx.edges(G)\n",
    "            Gnodelist = nx.nodes(G)\n",
    "            Gedgenum = len(Gedgelist)\n",
    "            Gnodenum = len(Gnodelist)\n",
    "            Bzero = nx.number_connected_components(G)\n",
    "            XG = Gnodenum - Gedgenum\n",
    "            Bone = Bzero - XG\n",
    "            if Bzero == 1: \n",
    "                yxs.append(1)\n",
    "                list.append(a)\n",
    "                break\n",
    "    return list #this function returns the values at which for this node number ends up fully infected"
   ]
  },
  {
   "cell_type": "code",
   "execution_count": 26,
   "metadata": {},
   "outputs": [],
   "source": [
    "def calcer(nodes, number, start, stop, gaps):\n",
    "    list = whenfullinfected(nodes, number, start, stop, gaps)\n",
    "    fullcount = Counter(list)\n",
    "    return fullcount #this is the function above but loops and creates a counter list of where the bzero = 1 ie. pandemic status"
   ]
  },
  {
   "cell_type": "code",
   "execution_count": 27,
   "metadata": {},
   "outputs": [
    {
     "data": {
      "text/plain": [
       "Counter({0.033: 111, 0.025: 146, 0.029: 188, 0.038: 30, 0.021: 23, 0.042: 2})"
      ]
     },
     "execution_count": 27,
     "metadata": {},
     "output_type": "execute_result"
    }
   ],
   "source": [
    "calcer(200, 500, 0, 0.1, 25)"
   ]
  },
  {
   "cell_type": "code",
   "execution_count": 28,
   "metadata": {},
   "outputs": [],
   "source": [
    "def firstonlycalcer(nodes, number, start, stop, gaps):\n",
    "    list = whenfullinfected(nodes, number, start, stop, gaps)\n",
    "    fullcount = Counter(list)\n",
    "    #print(fullcount)\n",
    "    return min(fullcount.keys()) # this is similar to above but outputs the lowest valueat which the graph would be fully infected"
   ]
  },
  {
   "cell_type": "code",
   "execution_count": 29,
   "metadata": {},
   "outputs": [
    {
     "data": {
      "text/plain": [
       "0.021"
      ]
     },
     "execution_count": 29,
     "metadata": {},
     "output_type": "execute_result"
    }
   ],
   "source": [
    "firstonlycalcer(200,100,0,0.1,25)"
   ]
  },
  {
   "cell_type": "code",
   "execution_count": 30,
   "metadata": {},
   "outputs": [],
   "source": [
    "def nchangecalcer(nstart,nstop,nstep,number, start, stop, gaps):\n",
    "    n = np.linspace(nstart,nstop, nstep, dtype=int)\n",
    "    when = {}\n",
    "    fullyat = []\n",
    "    h = -1\n",
    "    for i in n:\n",
    "        z = firstonlycalcer(int(i), number,start, stop, gaps)\n",
    "        fullyat.append(z)\n",
    "    for a in n:\n",
    "        h += 1\n",
    "        when[a] = fullyat[h]\n",
    "            \n",
    "    keys = when.keys()\n",
    "    values = when.values()\n",
    "    return when"
   ]
  },
  {
   "cell_type": "code",
   "execution_count": 31,
   "metadata": {},
   "outputs": [
    {
     "data": {
      "text/plain": [
       "{1: 0.0,\n",
       " 11: 0.101,\n",
       " 21: 0.071,\n",
       " 31: 0.071,\n",
       " 41: 0.061,\n",
       " 51: 0.04,\n",
       " 62: 0.051,\n",
       " 72: 0.045,\n",
       " 82: 0.035,\n",
       " 92: 0.035,\n",
       " 102: 0.03,\n",
       " 113: 0.03,\n",
       " 123: 0.035,\n",
       " 133: 0.03,\n",
       " 143: 0.03,\n",
       " 153: 0.025,\n",
       " 163: 0.025,\n",
       " 174: 0.02,\n",
       " 184: 0.025,\n",
       " 194: 0.025,\n",
       " 204: 0.025,\n",
       " 214: 0.02,\n",
       " 225: 0.02,\n",
       " 235: 0.015,\n",
       " 245: 0.02,\n",
       " 255: 0.02,\n",
       " 265: 0.02,\n",
       " 275: 0.015,\n",
       " 286: 0.015,\n",
       " 296: 0.015,\n",
       " 306: 0.015,\n",
       " 316: 0.015,\n",
       " 326: 0.015,\n",
       " 337: 0.015,\n",
       " 347: 0.015,\n",
       " 357: 0.015,\n",
       " 367: 0.015,\n",
       " 377: 0.015,\n",
       " 387: 0.015,\n",
       " 398: 0.015,\n",
       " 408: 0.015,\n",
       " 418: 0.015,\n",
       " 428: 0.015,\n",
       " 438: 0.015,\n",
       " 449: 0.015,\n",
       " 459: 0.01,\n",
       " 469: 0.01,\n",
       " 479: 0.01,\n",
       " 489: 0.01,\n",
       " 500: 0.01}"
      ]
     },
     "execution_count": 31,
     "metadata": {},
     "output_type": "execute_result"
    }
   ],
   "source": [
    "nchangecalcer(1,500,50,50,0,0.5,100)"
   ]
  },
  {
   "cell_type": "code",
   "execution_count": 32,
   "metadata": {},
   "outputs": [],
   "source": [
    "def finalq1check(nstart,nstop,nstep,number, start, stop, gaps):\n",
    "    \"\"\n",
    "    a = nchangecalcer(nstart,nstop,nstep,number, start, stop, gaps)\n",
    "    b = nchangecalcer(nstart,nstop,nstep,number, start, stop, gaps)\n",
    "    c = nchangecalcer(nstart,nstop,nstep,number, start, stop, gaps)\n",
    "\n",
    "    sums= Counter()\n",
    "    counters = Counter()\n",
    "    for itemset in [a,b,c]:\n",
    "        sums.update(itemset)\n",
    "        counters.update(itemset.keys())\n",
    "    \n",
    "    ret = {x: float(sums[x])/counters[x] for x in sums.keys()}\n",
    "    keys = ret.keys()\n",
    "    values = ret.values()\n",
    "    plt.plot(keys,values)"
   ]
  },
  {
   "cell_type": "code",
   "execution_count": 33,
   "metadata": {},
   "outputs": [
    {
     "data": {
      "image/png": "[encoded data removed]",
      "text/plain": [
       "<Figure size 432x288 with 1 Axes>"
      ]
     },
     "metadata": {
      "needs_background": "light"
     },
     "output_type": "display_data"
    }
   ],
   "source": [
    "finalq1check(1,500,50,100,0,0.5,100)"
   ]
  }
 ],
 "metadata": {
  "interpreter": {
   "hash": "a79884e4834f91c0f0d15c7cb696c21d631703e5abf58afc10bb48a5532883fa"
  },
  "kernelspec": {
   "display_name": "Python 3.9.7 64-bit",
   "language": "python",
   "name": "python3"
  },
  "language_info": {
   "codemirror_mode": {
    "name": "ipython",
    "version": 3
   },
   "file_extension": ".py",
   "mimetype": "text/x-python",
   "name": "python",
   "nbconvert_exporter": "python",
   "pygments_lexer": "ipython3",
   "version": "3.9.7"
  },
  "orig_nbformat": 4
 },
 "nbformat": 4,
 "nbformat_minor": 2
}
