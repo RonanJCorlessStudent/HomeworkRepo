{
 "cells": [
  {
   "cell_type": "code",
   "execution_count": null,
   "metadata": {},
   "outputs": [],
   "source": [
    "import networkx as nx\n",
    "import random\n",
    "import numpy as np\n",
    "import matplotlib\n",
    "import matplotlib.pyplot as plt\n",
    "import itertools\n",
    "import igraph as ig\n",
    "from collections import Counter"
   ]
  },
  {
   "cell_type": "code",
   "execution_count": null,
   "metadata": {},
   "outputs": [],
   "source": [
    "points_ex = [(i,i,i,i) for i in range(100)]\n",
    "print(points_ex)"
   ]
  },
  {
   "cell_type": "code",
   "execution_count": null,
   "metadata": {},
   "outputs": [],
   "source": [
    "def d(p,q):\n",
    "    \"Calculates distances between 2 points in R^4\"\n",
    "    return np.sqrt((p[0]-q[0])**2+(p[1]-q[1])**2+(p[2]-q[2])**2+(p[3]-q[3])**2)"
   ]
  },
  {
   "cell_type": "code",
   "execution_count": null,
   "metadata": {},
   "outputs": [],
   "source": [
    "d((1,1,1,1),(2,2,2,2))"
   ]
  },
  {
   "cell_type": "code",
   "execution_count": null,
   "metadata": {},
   "outputs": [],
   "source": [
    "def distancer(ps):\n",
    "    \"Creates distance matrix for a set of points in R^4\"\n",
    "    nps = len(ps)\n",
    "    return np.array([[d(ps[i],ps[j]) for j in range(nps)] for i in range(nps)])"
   ]
  },
  {
   "cell_type": "code",
   "execution_count": null,
   "metadata": {},
   "outputs": [],
   "source": [
    "distancer(points_ex)"
   ]
  },
  {
   "cell_type": "code",
   "execution_count": null,
   "metadata": {},
   "outputs": [],
   "source": [
    "def graphmachine(distances, eps):\n",
    "    \"Creates the graph using the distance matrix and the epsilon value\"\n",
    "    graph = {}\n",
    "    nverts = np.shape(distances)[0]\n",
    "    for i in range(nverts):\n",
    "        graph[i] = []\n",
    "        for j in range(nverts):\n",
    "            if distances[i,j] <= eps and i != j:\n",
    "                graph[i].append(j)\n",
    "    return graph"
   ]
  },
  {
   "cell_type": "code",
   "execution_count": null,
   "metadata": {},
   "outputs": [],
   "source": [
    "graph4 = graphmachine(distancer(points_ex), 4)"
   ]
  },
  {
   "cell_type": "code",
   "execution_count": null,
   "metadata": {},
   "outputs": [],
   "source": [
    "def is_simplex(g,vs):\n",
    "    \"checks a vector list to see if it forms a simplex on a graph\"\n",
    "    for i in vs:\n",
    "        for j in vs:\n",
    "            if i != j and j not in g[i]:\n",
    "                return False\n",
    "    return True"
   ]
  },
  {
   "cell_type": "code",
   "execution_count": null,
   "metadata": {},
   "outputs": [],
   "source": [
    "def simplices(g,k):\n",
    "    \"counts the amount of simplices that exist in a graph with a node len(k)\"\n",
    "    ss = []\n",
    "    for i in g.keys():\n",
    "        vvs = [j for j in g[i] if j > i]\n",
    "        for subset in itertools.combinations(vvs,k):\n",
    "            if is_simplex(g,subset):\n",
    "                ss.append((i,) + subset)\n",
    "    return len(ss)"
   ]
  },
  {
   "cell_type": "code",
   "execution_count": null,
   "metadata": {},
   "outputs": [],
   "source": [
    "simplices(graph4, 1)"
   ]
  },
  {
   "cell_type": "code",
   "execution_count": null,
   "metadata": {},
   "outputs": [],
   "source": [
    "def question2func(points, estart,estop,esteps,typer):\n",
    "    \"\"\"function that returns the graph of epsilon vs X(k) for a set of points,\n",
    "    with e values representing the range start stop and step\n",
    "    for epsilon and the data type allowed for epsilon\"\"\"\n",
    "    plt.figure(figsize=(10,10))\n",
    "    eps = np.linspace(estart,estop,esteps, dtype = typer)\n",
    "    dists = distancer(points)\n",
    "    y=[]\n",
    "    s=0\n",
    "    for n in eps:\n",
    "        k = graphmachine(dists, n)\n",
    "        for f in range(len(eps)):\n",
    "            a = ((-1)**f)*(simplices(k,f))\n",
    "            s = s+a\n",
    "        y.append(s)\n",
    "    return plt.plot(eps, y)\n",
    "        "
   ]
  },
  {
   "cell_type": "code",
   "execution_count": null,
   "metadata": {},
   "outputs": [],
   "source": [
    "question2func(points_ex, 0, 9, 10, int)"
   ]
  },
  {
   "cell_type": "code",
   "execution_count": null,
   "metadata": {},
   "outputs": [],
   "source": [
    "points_cosh = [(np.cos(t),np.cos(t),np.sin(t),np.sin(t)) for t in range(100)]\n",
    "\n",
    "print(points_cosh)"
   ]
  },
  {
   "cell_type": "code",
   "execution_count": null,
   "metadata": {},
   "outputs": [],
   "source": [
    "question2func(points_cosh, 0, 0.4, 100, float)"
   ]
  },
  {
   "cell_type": "code",
   "execution_count": null,
   "metadata": {},
   "outputs": [],
   "source": []
  }
 ],
 "metadata": {
  "interpreter": {
   "hash": "a79884e4834f91c0f0d15c7cb696c21d631703e5abf58afc10bb48a5532883fa"
  },
  "kernelspec": {
   "display_name": "Python 3.9.7 64-bit",
   "language": "python",
   "name": "python3"
  },
  "language_info": {
   "codemirror_mode": {
    "name": "ipython",
    "version": 3
   },
   "file_extension": ".py",
   "mimetype": "text/x-python",
   "name": "python",
   "nbconvert_exporter": "python",
   "pygments_lexer": "ipython3",
   "version": "3.9.7"
  },
  "orig_nbformat": 4
 },
 "nbformat": 4,
 "nbformat_minor": 2
}
